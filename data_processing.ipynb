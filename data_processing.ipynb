{
 "cells": [
  {
   "cell_type": "code",
   "execution_count": 1,
   "id": "c56a27a4",
   "metadata": {},
   "outputs": [],
   "source": [
    "import pandas as pd\n",
    "import numpy as np\n"
   ]
  },
  {
   "cell_type": "code",
   "execution_count": 17,
   "id": "0ef2bf5d",
   "metadata": {},
   "outputs": [],
   "source": [
    "movies = pd.read_csv('datasets/movies.csv') \n",
    "ratings = pd.read_csv('datasets/ratings.csv')\n",
    "users = pd.read_csv('datasets/users.csv')"
   ]
  },
  {
   "cell_type": "code",
   "execution_count": 18,
   "id": "1375debb",
   "metadata": {},
   "outputs": [
    {
     "data": {
      "text/plain": [
       "movieId         62423\n",
       "title           62423\n",
       "genres          62423\n",
       "actors          62423\n",
       "realizations    62423\n",
       "date            62013\n",
       "dtype: int64"
      ]
     },
     "execution_count": 18,
     "metadata": {},
     "output_type": "execute_result"
    }
   ],
   "source": [
    "movies.count()\n"
   ]
  },
  {
   "cell_type": "code",
   "execution_count": 50,
   "id": "04b4e074",
   "metadata": {},
   "outputs": [
    {
     "data": {
      "text/plain": [
       "userId        162541\n",
       "name          162541\n",
       "gender        162541\n",
       "age           162541\n",
       "occupation    162541\n",
       "zip_code      162541\n",
       "dtype: int64"
      ]
     },
     "execution_count": 50,
     "metadata": {},
     "output_type": "execute_result"
    }
   ],
   "source": [
    "users.count()"
   ]
  },
  {
   "cell_type": "code",
   "execution_count": 51,
   "id": "7ad56ef8",
   "metadata": {},
   "outputs": [
    {
     "data": {
      "text/plain": [
       "userId       25000095\n",
       "movieId      25000095\n",
       "rating       25000095\n",
       "timestamp    25000095\n",
       "dtype: int64"
      ]
     },
     "execution_count": 51,
     "metadata": {},
     "output_type": "execute_result"
    }
   ],
   "source": [
    "ratings.count()\n"
   ]
  },
  {
   "cell_type": "code",
   "execution_count": 4,
   "id": "f1f7dd2a",
   "metadata": {},
   "outputs": [
    {
     "data": {
      "text/html": [
       "<div>\n",
       "<style scoped>\n",
       "    .dataframe tbody tr th:only-of-type {\n",
       "        vertical-align: middle;\n",
       "    }\n",
       "\n",
       "    .dataframe tbody tr th {\n",
       "        vertical-align: top;\n",
       "    }\n",
       "\n",
       "    .dataframe thead th {\n",
       "        text-align: right;\n",
       "    }\n",
       "</style>\n",
       "<table border=\"1\" class=\"dataframe\">\n",
       "  <thead>\n",
       "    <tr style=\"text-align: right;\">\n",
       "      <th></th>\n",
       "      <th>movieId</th>\n",
       "      <th>title</th>\n",
       "      <th>genres</th>\n",
       "    </tr>\n",
       "  </thead>\n",
       "  <tbody>\n",
       "    <tr>\n",
       "      <th>0</th>\n",
       "      <td>1</td>\n",
       "      <td>Toy Story (1995)</td>\n",
       "      <td>Adventure|Animation|Children|Comedy|Fantasy</td>\n",
       "    </tr>\n",
       "    <tr>\n",
       "      <th>1</th>\n",
       "      <td>2</td>\n",
       "      <td>Jumanji (1995)</td>\n",
       "      <td>Adventure|Children|Fantasy</td>\n",
       "    </tr>\n",
       "    <tr>\n",
       "      <th>2</th>\n",
       "      <td>3</td>\n",
       "      <td>Grumpier Old Men (1995)</td>\n",
       "      <td>Comedy|Romance</td>\n",
       "    </tr>\n",
       "    <tr>\n",
       "      <th>3</th>\n",
       "      <td>4</td>\n",
       "      <td>Waiting to Exhale (1995)</td>\n",
       "      <td>Comedy|Drama|Romance</td>\n",
       "    </tr>\n",
       "    <tr>\n",
       "      <th>4</th>\n",
       "      <td>5</td>\n",
       "      <td>Father of the Bride Part II (1995)</td>\n",
       "      <td>Comedy</td>\n",
       "    </tr>\n",
       "  </tbody>\n",
       "</table>\n",
       "</div>"
      ],
      "text/plain": [
       "   movieId                               title  \\\n",
       "0        1                    Toy Story (1995)   \n",
       "1        2                      Jumanji (1995)   \n",
       "2        3             Grumpier Old Men (1995)   \n",
       "3        4            Waiting to Exhale (1995)   \n",
       "4        5  Father of the Bride Part II (1995)   \n",
       "\n",
       "                                        genres  \n",
       "0  Adventure|Animation|Children|Comedy|Fantasy  \n",
       "1                   Adventure|Children|Fantasy  \n",
       "2                               Comedy|Romance  \n",
       "3                         Comedy|Drama|Romance  \n",
       "4                                       Comedy  "
      ]
     },
     "execution_count": 4,
     "metadata": {},
     "output_type": "execute_result"
    }
   ],
   "source": [
    "movies.head()"
   ]
  },
  {
   "cell_type": "code",
   "execution_count": 53,
   "id": "c528c999",
   "metadata": {},
   "outputs": [
    {
     "data": {
      "text/plain": [
       "movieId                      152\n",
       "title      Addiction, The (1995)\n",
       "genres              Drama|Horror\n",
       "Name: 150, dtype: object"
      ]
     },
     "execution_count": 53,
     "metadata": {},
     "output_type": "execute_result"
    }
   ],
   "source": [
    "# afficher la ligne 147 movies  \n",
    "movies.iloc[150]"
   ]
  },
  {
   "cell_type": "code",
   "execution_count": 12,
   "id": "3801a5fe",
   "metadata": {},
   "outputs": [],
   "source": [
    "import re\n",
    "\n",
    "def clean_movie_titles(df, title_col=\"title\"):\n",
    "    def process_title(title):\n",
    "        # Supprimer les parenthèses contenant une traduction (ex: (Confessionnal, Le))\n",
    "        title = re.sub(r\"\\([^)]*, [^)]+\\)\", \"\", title)\n",
    "        # Supprimer les virgules\n",
    "        title = title.replace(\",\", \"\")\n",
    "        # Supprimer les espaces multiples\n",
    "        title = re.sub(r\"\\s+\", \" \", title).strip()\n",
    "        return title\n",
    "\n",
    "    df[title_col] = df[title_col].apply(process_title)\n",
    "    return df\n",
    "\n",
    "# Appliquer la fonction de nettoyage sur le DataFrame movies\n",
    "movies = clean_movie_titles(movies)\n"
   ]
  },
  {
   "cell_type": "code",
   "execution_count": 13,
   "id": "abde113a",
   "metadata": {},
   "outputs": [
    {
     "data": {
      "text/plain": [
       "movieId                                              152\n",
       "title                                      Addiction The\n",
       "genres                                      Drama|Horror\n",
       "actors          Diana Barnett|Curtis Hanna|Michele Johns\n",
       "realizations                Jodi Rodriguez|Michael Perry\n",
       "date                                                1995\n",
       "Name: 150, dtype: object"
      ]
     },
     "execution_count": 13,
     "metadata": {},
     "output_type": "execute_result"
    }
   ],
   "source": [
    "movies.iloc[150]\n"
   ]
  },
  {
   "cell_type": "code",
   "execution_count": 19,
   "id": "8021655f",
   "metadata": {},
   "outputs": [],
   "source": [
    "\n",
    "# enregistrer le fichier movies.csv\n",
    "movies.to_csv('datasets/movies.csv', index=False)"
   ]
  },
  {
   "cell_type": "code",
   "execution_count": 57,
   "id": "e1bca1ae",
   "metadata": {},
   "outputs": [
    {
     "data": {
      "text/html": [
       "<div>\n",
       "<style scoped>\n",
       "    .dataframe tbody tr th:only-of-type {\n",
       "        vertical-align: middle;\n",
       "    }\n",
       "\n",
       "    .dataframe tbody tr th {\n",
       "        vertical-align: top;\n",
       "    }\n",
       "\n",
       "    .dataframe thead th {\n",
       "        text-align: right;\n",
       "    }\n",
       "</style>\n",
       "<table border=\"1\" class=\"dataframe\">\n",
       "  <thead>\n",
       "    <tr style=\"text-align: right;\">\n",
       "      <th></th>\n",
       "      <th>userId</th>\n",
       "      <th>movieId</th>\n",
       "      <th>rating</th>\n",
       "      <th>timestamp</th>\n",
       "    </tr>\n",
       "  </thead>\n",
       "  <tbody>\n",
       "    <tr>\n",
       "      <th>0</th>\n",
       "      <td>1</td>\n",
       "      <td>296</td>\n",
       "      <td>5.0</td>\n",
       "      <td>1147880044</td>\n",
       "    </tr>\n",
       "    <tr>\n",
       "      <th>1</th>\n",
       "      <td>1</td>\n",
       "      <td>306</td>\n",
       "      <td>3.5</td>\n",
       "      <td>1147868817</td>\n",
       "    </tr>\n",
       "    <tr>\n",
       "      <th>2</th>\n",
       "      <td>1</td>\n",
       "      <td>307</td>\n",
       "      <td>5.0</td>\n",
       "      <td>1147868828</td>\n",
       "    </tr>\n",
       "    <tr>\n",
       "      <th>3</th>\n",
       "      <td>1</td>\n",
       "      <td>665</td>\n",
       "      <td>5.0</td>\n",
       "      <td>1147878820</td>\n",
       "    </tr>\n",
       "    <tr>\n",
       "      <th>4</th>\n",
       "      <td>1</td>\n",
       "      <td>899</td>\n",
       "      <td>3.5</td>\n",
       "      <td>1147868510</td>\n",
       "    </tr>\n",
       "  </tbody>\n",
       "</table>\n",
       "</div>"
      ],
      "text/plain": [
       "   userId  movieId  rating   timestamp\n",
       "0       1      296     5.0  1147880044\n",
       "1       1      306     3.5  1147868817\n",
       "2       1      307     5.0  1147868828\n",
       "3       1      665     5.0  1147878820\n",
       "4       1      899     3.5  1147868510"
      ]
     },
     "execution_count": 57,
     "metadata": {},
     "output_type": "execute_result"
    }
   ],
   "source": [
    "ratings.head()"
   ]
  },
  {
   "cell_type": "code",
   "execution_count": 9,
   "id": "77d6b585",
   "metadata": {},
   "outputs": [
    {
     "name": "stdout",
     "output_type": "stream",
     "text": [
      "   movieId                               title  \\\n",
      "0        1                    Toy Story (1995)   \n",
      "1        2                      Jumanji (1995)   \n",
      "2        3             Grumpier Old Men (1995)   \n",
      "3        4            Waiting to Exhale (1995)   \n",
      "4        5  Father of the Bride Part II (1995)   \n",
      "\n",
      "                                        genres  \\\n",
      "0  Adventure|Animation|Children|Comedy|Fantasy   \n",
      "1                   Adventure|Children|Fantasy   \n",
      "2                               Comedy|Romance   \n",
      "3                         Comedy|Drama|Romance   \n",
      "4                                       Comedy   \n",
      "\n",
      "                                              actors  \\\n",
      "0                         Tina Stewart|Jessica Smith   \n",
      "1  Richard Sanchez|David Walker|Carol Rodriguez|J...   \n",
      "2  Nicholas Ramsey|Donna Williams|David Huerta|Ch...   \n",
      "3                                      Curtis Wright   \n",
      "4                      David Rogers|Stanley Galloway   \n",
      "\n",
      "                     realizations  \n",
      "0  Jeremy Hendricks|Sonya Edwards  \n",
      "1    Edward Williams|Keith Hudson  \n",
      "2       Kyle Luna|Daniel Gonzalez  \n",
      "3                Derrick Campbell  \n",
      "4                 Howard Martinez  \n"
     ]
    }
   ],
   "source": [
    "from faker import Faker\n",
    "import pandas as pd\n",
    "import random\n",
    "\n",
    "fake = Faker()\n",
    "\n",
    "# Exemple : ratings DataFrame déjà chargé avec une colonne 'userId'\n",
    "user_ids = ratings['userId'].unique()\n",
    "\n",
    "# Générer des données utilisateur aléatoires\n",
    "def generate_user(uid):\n",
    "    gender = random.choice(['M', 'F'])  # M = Homme, F = Femme\n",
    "    if gender == 'M':\n",
    "        name = fake.first_name_male() + \" \" + fake.last_name()\n",
    "    else:\n",
    "        name = fake.first_name_female() + \" \" + fake.last_name()\n",
    "    age = random.randint(12, 70)\n",
    "    occupation = random.randint(1, 30)\n",
    "    zip_code = fake.zipcode()\n",
    "    return {'userId': uid, 'name': name, 'gender': gender, 'age': age, 'occupation': occupation, 'zip_code': zip_code}\n",
    "\n",
    "# Générer les utilisateurs\n",
    "user_data = [generate_user(uid) for uid in user_ids]\n",
    "users = pd.DataFrame(user_data)\n",
    "\n",
    "# Générer les acteurs et réalisateurs sous forme de string avec |\n",
    "def generate_actors():\n",
    "    num_actors = random.randint(1, 4)\n",
    "    return \"|\".join(fake.first_name() + \" \" + fake.last_name() for _ in range(num_actors))\n",
    "\n",
    "def generate_directors():\n",
    "    num_directors = random.randint(1, 2)\n",
    "    return \"|\".join(fake.first_name() + \" \" + fake.last_name() for _ in range(num_directors))\n",
    "\n",
    "# Ajouter les colonnes 'actors' et 'realizations' sous forme de texte\n",
    "movies['actors'] = movies['movieId'].apply(lambda x: generate_actors())\n",
    "movies['realizations'] = movies['movieId'].apply(lambda x: generate_directors())\n",
    "\n",
    "# Aperçu\n",
    "print(movies.head())\n",
    "\n",
    "# Sauvegarder les users\n",
    "users.to_csv('datasets/users.csv', index=False)\n",
    "\n",
    "# Sauvegarder les movies avec actors et realizations en | string\n",
    "movies.to_csv('datasets/movies.csv', index=False)\n"
   ]
  },
  {
   "cell_type": "code",
   "execution_count": 11,
   "id": "65ef2eb6",
   "metadata": {},
   "outputs": [
    {
     "name": "stdout",
     "output_type": "stream",
     "text": [
      "   movieId                        title  \\\n",
      "0        1                    Toy Story   \n",
      "1        2                      Jumanji   \n",
      "2        3             Grumpier Old Men   \n",
      "3        4            Waiting to Exhale   \n",
      "4        5  Father of the Bride Part II   \n",
      "\n",
      "                                        genres  \\\n",
      "0  Adventure|Animation|Children|Comedy|Fantasy   \n",
      "1                   Adventure|Children|Fantasy   \n",
      "2                               Comedy|Romance   \n",
      "3                         Comedy|Drama|Romance   \n",
      "4                                       Comedy   \n",
      "\n",
      "                                              actors  \\\n",
      "0                         Tina Stewart|Jessica Smith   \n",
      "1  Richard Sanchez|David Walker|Carol Rodriguez|J...   \n",
      "2  Nicholas Ramsey|Donna Williams|David Huerta|Ch...   \n",
      "3                                      Curtis Wright   \n",
      "4                      David Rogers|Stanley Galloway   \n",
      "\n",
      "                     realizations  date  \n",
      "0  Jeremy Hendricks|Sonya Edwards  1995  \n",
      "1    Edward Williams|Keith Hudson  1995  \n",
      "2       Kyle Luna|Daniel Gonzalez  1995  \n",
      "3                Derrick Campbell  1995  \n",
      "4                 Howard Martinez  1995  \n"
     ]
    }
   ],
   "source": [
    "import re\n",
    "\n",
    "# Fonction pour séparer le titre et la date\n",
    "def split_title_and_date(title):\n",
    "    match = re.search(r'\\((\\d{4})\\)', title)\n",
    "    if match:\n",
    "        year = match.group(1)\n",
    "        title_clean = re.sub(r'\\(\\d{4}\\)', '', title).strip()\n",
    "    else:\n",
    "        year = None\n",
    "        title_clean = title\n",
    "    return title_clean, year\n",
    "\n",
    "# Appliquer sur le DataFrame\n",
    "movies[['clean_title', 'date']] = movies['title'].apply(lambda x: pd.Series(split_title_and_date(x)))\n",
    "\n",
    "# Remplacer l'ancienne colonne Title par clean_title\n",
    "movies['title'] = movies['clean_title']\n",
    "\n",
    "# Supprimer la colonne temporaire clean_title\n",
    "movies = movies.drop(columns=['clean_title'])\n",
    "\n",
    "# Aperçu\n",
    "print(movies.head())\n",
    "\n",
    "# Sauvegarder le résultat\n",
    "movies.to_csv('datasets/movies.csv', index=False)\n"
   ]
  },
  {
   "cell_type": "code",
   "execution_count": 15,
   "id": "4c9fc2fd",
   "metadata": {},
   "outputs": [],
   "source": [
    "def export_to_dat(df: pd.DataFrame, filename: str):\n",
    "    \"\"\"\n",
    "    Exporte un DataFrame au format .dat avec '::' comme séparateur multi-caractères.\n",
    "    \n",
    "    Args:\n",
    "        df (pd.DataFrame): Le DataFrame à exporter.\n",
    "        filename (str): Le nom du fichier (sans .dat).\n",
    "    \"\"\"\n",
    "    temp_csv = f\"{filename}_temp.csv\"\n",
    "    final_dat = f\"{filename}.dat\"\n",
    "\n",
    "    # 1. Sauvegarde temporaire en CSV avec une virgule comme séparateur\n",
    "    df.to_csv(temp_csv, index=False, header=False, lineterminator=\"\\n\", encoding='utf-8')\n",
    "\n",
    "    # 2. Remplace les virgules par ::\n",
    "    with open(temp_csv, 'r', encoding='utf-8') as infile, open(final_dat, 'w', encoding='utf-8') as outfile:\n",
    "        for line in infile:\n",
    "            outfile.write(line.strip().replace(',', '::') + '\\n')\n",
    "\n",
    "    print(f\"✅ Fichier .dat généré avec succès : {final_dat}\")\n"
   ]
  },
  {
   "cell_type": "code",
   "execution_count": null,
   "id": "0a59bc5d",
   "metadata": {},
   "outputs": [
    {
     "name": "stdout",
     "output_type": "stream",
     "text": [
      "✅ Fichier .dat généré avec succès : datasets/movies.dat\n"
     ]
    }
   ],
   "source": [
    "export_to_dat(movies, 'datasets/movies')\n",
    "export_to_dat(ratings, 'datasets/ratings')\n",
    "export_to_dat(users, 'datasets/users')"
   ]
  },
  {
   "cell_type": "code",
   "execution_count": 44,
   "id": "0f1ee0db",
   "metadata": {},
   "outputs": [
    {
     "data": {
      "text/html": [
       "<div>\n",
       "<style scoped>\n",
       "    .dataframe tbody tr th:only-of-type {\n",
       "        vertical-align: middle;\n",
       "    }\n",
       "\n",
       "    .dataframe tbody tr th {\n",
       "        vertical-align: top;\n",
       "    }\n",
       "\n",
       "    .dataframe thead th {\n",
       "        text-align: right;\n",
       "    }\n",
       "</style>\n",
       "<table border=\"1\" class=\"dataframe\">\n",
       "  <thead>\n",
       "    <tr style=\"text-align: right;\">\n",
       "      <th></th>\n",
       "      <th>userId</th>\n",
       "      <th>movieId</th>\n",
       "      <th>rating</th>\n",
       "      <th>timestamp</th>\n",
       "    </tr>\n",
       "  </thead>\n",
       "  <tbody>\n",
       "    <tr>\n",
       "      <th>15347762</th>\n",
       "      <td>99476</td>\n",
       "      <td>104374</td>\n",
       "      <td>3.5</td>\n",
       "      <td>1467897440</td>\n",
       "    </tr>\n",
       "    <tr>\n",
       "      <th>16647840</th>\n",
       "      <td>107979</td>\n",
       "      <td>2634</td>\n",
       "      <td>4.0</td>\n",
       "      <td>994007728</td>\n",
       "    </tr>\n",
       "    <tr>\n",
       "      <th>23915192</th>\n",
       "      <td>155372</td>\n",
       "      <td>1614</td>\n",
       "      <td>3.0</td>\n",
       "      <td>1097887531</td>\n",
       "    </tr>\n",
       "    <tr>\n",
       "      <th>10052313</th>\n",
       "      <td>65225</td>\n",
       "      <td>7153</td>\n",
       "      <td>4.0</td>\n",
       "      <td>1201382275</td>\n",
       "    </tr>\n",
       "    <tr>\n",
       "      <th>12214125</th>\n",
       "      <td>79161</td>\n",
       "      <td>500</td>\n",
       "      <td>5.0</td>\n",
       "      <td>1488915363</td>\n",
       "    </tr>\n",
       "  </tbody>\n",
       "</table>\n",
       "</div>"
      ],
      "text/plain": [
       "          userId  movieId  rating   timestamp\n",
       "15347762   99476   104374     3.5  1467897440\n",
       "16647840  107979     2634     4.0   994007728\n",
       "23915192  155372     1614     3.0  1097887531\n",
       "10052313   65225     7153     4.0  1201382275\n",
       "12214125   79161      500     5.0  1488915363"
      ]
     },
     "execution_count": 44,
     "metadata": {},
     "output_type": "execute_result"
    }
   ],
   "source": [
    "ratings_sample = ratings.sample(n=10000, random_state=42)\n",
    "ratings_sample.head()\n"
   ]
  },
  {
   "cell_type": "code",
   "execution_count": 45,
   "id": "8f8f9618",
   "metadata": {},
   "outputs": [],
   "source": [
    "selected_user_ids = ratings_sample['userId'].unique()\n",
    "selected_movie_ids = ratings_sample['movieId'].unique()\n",
    "\n",
    "# Filtrer les utilisateurs et films sélectionnés\n",
    "filtered_users = users[users['userId'].isin(selected_user_ids)]\n",
    "filtered_movies = movies[movies['movieId'].isin(selected_movie_ids)]\n",
    "filtered_users = filtered_users.sort_values(by='userId')\n",
    "filtered_movies = filtered_movies.sort_values(by='movieId')"
   ]
  },
  {
   "cell_type": "code",
   "execution_count": 46,
   "id": "db7d43c5",
   "metadata": {},
   "outputs": [],
   "source": [
    "ratings_sample.to_csv('datasets/ratings_sample.csv', index=False)\n",
    "filtered_movies.to_csv('datasets/movies_sample.csv', index=False)\n",
    "filtered_users.to_csv('datasets/users_sample.csv', index=False)"
   ]
  },
  {
   "cell_type": "code",
   "execution_count": 47,
   "id": "647caf16",
   "metadata": {},
   "outputs": [
    {
     "name": "stdout",
     "output_type": "stream",
     "text": [
      "✅ Fichier .dat généré avec succès : datasets/movies.dat\n",
      "✅ Fichier .dat généré avec succès : datasets/ratings.dat\n",
      "✅ Fichier .dat généré avec succès : datasets/users.dat\n"
     ]
    }
   ],
   "source": [
    "export_to_dat(filtered_movies, 'datasets/movies')\n",
    "export_to_dat(ratings_sample, 'datasets/ratings')\n",
    "export_to_dat(filtered_users, 'datasets/users')"
   ]
  }
 ],
 "metadata": {
  "kernelspec": {
   "display_name": "base",
   "language": "python",
   "name": "python3"
  },
  "language_info": {
   "codemirror_mode": {
    "name": "ipython",
    "version": 3
   },
   "file_extension": ".py",
   "mimetype": "text/x-python",
   "name": "python",
   "nbconvert_exporter": "python",
   "pygments_lexer": "ipython3",
   "version": "3.12.7"
  }
 },
 "nbformat": 4,
 "nbformat_minor": 5
}
